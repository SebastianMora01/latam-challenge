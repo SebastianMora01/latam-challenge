{
 "cells": [
  {
   "cell_type": "markdown",
   "metadata": {},
   "source": [
    "En este archivo puedes escribir lo que estimes conveniente. Te recomendamos detallar tu solución y todas las suposiciones que estás considerando. Aquí puedes ejecutar las funciones que definiste en los otros archivos de la carpeta src, medir el tiempo, memoria, etc."
   ]
  },
  {
   "cell_type": "code",
   "execution_count": null,
   "metadata": {},
   "outputs": [],
   "source": [
    "\n",
    "\n",
    "import time\n",
    "import tracemalloc\n",
    "from q1_memory import q1_memory\n",
    "from q1_time import q1_time\n",
    "from q2_memory import q2_memory\n",
    "from q2_time import q2_time\n",
    "from q3_memory import q3_memory\n",
    "from q3_time import q3_time\n",
    "\n",
    "\n",
    "\n",
    "\n",
    "\n",
    "# Medir tiempo y memoria\n",
    "def measure_performance(func, file_path, description):\n",
    "    print(f\"\\nEjecutando {description}\")\n",
    "    \n",
    "    # Medir uso de memoria\n",
    "    tracemalloc.start()\n",
    "    start_time = time.time()\n",
    "    \n",
    "    # Ejecutar la función\n",
    "    result = func(file_path)\n",
    "    \n",
    "    # Medir tiempo de ejecución y memoria\n",
    "    end_time = time.time()\n",
    "    current, peak = tracemalloc.get_traced_memory()\n",
    "    tracemalloc.stop()\n",
    "    \n",
    "    # Mostrar resultados\n",
    "    print(f\"Tiempo de ejecución: {end_time - start_time:.2f} segundos\")\n",
    "    print(f\"Memoria usada: {current / 10**6:.2f} MB, Memoria pico: {peak / 10**6:.2f} MB\")\n",
    "    return result\n",
    "\n",
    "\n",
    "file_path = \"farmers-protest-tweets-2021-2-4.json\"\n",
    "\n",
    "# Medir rendimiento de las funciones de Q1\n",
    "result_q1_mem = measure_performance(q1_memory, file_path, \"Q1 optimizado para memoria\")\n",
    "result_q1_time = measure_performance(q1_time, file_path, \"Q1 optimizado para tiempo\")\n",
    "\n",
    "# Medir rendimiento de las funciones de Q2\n",
    "result_q2_mem = measure_performance(q2_memory, file_path, \"Q2 optimizado para memoria\")\n",
    "result_q2_time = measure_performance(q2_time, file_path, \"Q2 optimizado para tiempo\")\n",
    "\n",
    "# Medir rendimiento de las funciones de Q3\n",
    "result_q3_mem = measure_performance(q3_memory, file_path, \"Q3 optimizado para memoria\")\n",
    "result_q3_time = measure_performance(q3_time, file_path, \"Q3 optimizado para tiempo\")\n",
    "\n",
    "\n",
    "print(\"\\nResultados esperados:\")\n",
    "print(f\"Q1 Memoria: {result_q1_mem}\")\n",
    "print(f\"Q1 Tiempo: {result_q1_time}\")\n",
    "print(f\"Q2 Memoria: {result_q2_mem}\")\n",
    "print(f\"Q2 Tiempo: {result_q2_time}\")\n",
    "print(f\"Q3 Memoria: {result_q3_mem}\")\n",
    "print(f\"Q3 Tiempo: {result_q3_time}\")"
   ]
  }
 ],
 "metadata": {
  "language_info": {
   "name": "python"
  },
  "orig_nbformat": 4
 },
 "nbformat": 4,
 "nbformat_minor": 2
}
